{
 "cells": [
  {
   "cell_type": "code",
   "execution_count": 57,
   "id": "7840efff-d3a0-4f77-afda-933141b3903c",
   "metadata": {},
   "outputs": [],
   "source": [
    "import dspy\n",
    "import nest_asyncio\n",
    "from pydantic import BaseModel, Field\n",
    "from dspy.functional import TypedPredictor\n",
    "from IPython.display import Markdown, display\n",
    "from typing import List, Optional, Union\n",
    "from dotenv import load_dotenv\n",
    "from devtools import pprint"
   ]
  },
  {
   "cell_type": "code",
   "execution_count": 58,
   "id": "e1da6937-2a94-488e-b9e7-c7485a2cfd79",
   "metadata": {},
   "outputs": [
    {
     "data": {
      "text/plain": [
       "True"
      ]
     },
     "execution_count": 58,
     "metadata": {},
     "output_type": "execute_result"
    }
   ],
   "source": [
    "import json\n",
    "import os\n",
    "from dotenv import load_dotenv\n",
    "\n",
    "load_dotenv()"
   ]
  },
  {
   "cell_type": "code",
   "execution_count": 60,
   "id": "a3e48a14-6382-4a65-b534-cbbb48629174",
   "metadata": {},
   "outputs": [],
   "source": [
    "gpt4 = dspy.OpenAI(model=\"gpt-4-turbo-preview\", max_tokens=4096, model_type=\"chat\")\n",
    "gpt_turbo = dspy.OpenAI(model=\"gpt-3.5-turbo\", max_tokens=4096, model_type=\"chat\")"
   ]
  },
  {
   "cell_type": "code",
   "execution_count": 61,
   "id": "ed2cbaff-d5fc-4490-84b6-c5c74506953f",
   "metadata": {},
   "outputs": [],
   "source": [
    "dspy.settings.configure(lm=gpt4)\n"
   ]
  },
  {
   "cell_type": "code",
   "execution_count": 62,
   "id": "e575068e-fa1a-45a3-814d-3d3fa5120491",
   "metadata": {},
   "outputs": [
    {
     "data": {
      "text/plain": [
       "['The number 42 being seen as the meaning of life comes from Douglas Adams\\' science fiction series \"The Hitchhiker\\'s Guide to the Galaxy.\" In the series, a supercomputer named Deep Thought is asked to find the answer to the ultimate question of life, the universe, and everything. After much calculation, Deep Thought reveals that the answer is simply the number 42, but the actual question is unknown.\\n\\nThe significance of 42 as the meaning of life has since become a popular cultural reference and meme, often used humorously to suggest that life\\'s ultimate purpose is unknowable or absurd.']"
      ]
     },
     "execution_count": 62,
     "metadata": {},
     "output_type": "execute_result"
    }
   ],
   "source": [
    "gpt_turbo(\"Why is 42 seen as the meaning of life?\")\n"
   ]
  },
  {
   "cell_type": "code",
   "execution_count": 63,
   "id": "64da8658-7b54-4631-a084-f15d1d77f6d3",
   "metadata": {},
   "outputs": [
    {
     "data": {
      "text/plain": [
       "['The notion that 42 is the \"meaning of life\" originates from Douglas Adams\\' science fiction series, \"The Hitchhiker\\'s Guide to the Galaxy.\" In the story, a supercomputer named Deep Thought is asked to find the \"Answer to the Ultimate Question of Life, the Universe, and Everything.\" After much contemplation (7.5 million years of it, to be precise), Deep Thought reveals that the answer is, somewhat anticlimactically, 42. However, it then points out that the problem is actually that nobody knows what the question is.\\n\\nAdams\\' choice of the number 42 has been a topic of much speculation and humor among fans and readers. When asked why he chose 42, Adams himself said it was a joke, stating that he chose a number that was funny and mundane. The randomness and ordinariness of the number were intended to highlight the absurdity of seeking simple answers to the complex mysteries of existence.\\n\\nOver time, the number 42 has transcended its origins in \"The Hitchhiker\\'s Guide to the Galaxy\" to become a cultural reference point, symbolizing the search for meaning in life. It\\'s often used in various contexts, both humorous and serious, to represent elusive answers to complex questions.']"
      ]
     },
     "execution_count": 63,
     "metadata": {},
     "output_type": "execute_result"
    }
   ],
   "source": [
    "gpt4(\"Why is 42 seen as the meaning of life?\")\n"
   ]
  },
  {
   "cell_type": "code",
   "execution_count": 64,
   "id": "22f555f8-563d-4ee8-91d8-90fb0cb95805",
   "metadata": {},
   "outputs": [],
   "source": [
    "with open(\"./data/recipe.md\", \"r\") as f:\n",
    "    train_data = f.read()"
   ]
  },
  {
   "cell_type": "code",
   "execution_count": 65,
   "id": "a5687e57-400a-49ec-8139-1410f5083cae",
   "metadata": {},
   "outputs": [
    {
     "data": {
      "text/markdown": [
       "### Chashu pork (for ramen and more)\n",
       "Chashu pork is a classic way to prepare pork belly for Japanese dishes such as ramen. While it takes a little time, it's relatively hands off and easy, and the result is delicious.\n",
       "\n",
       "### Prep Time\n",
       "15 minutes\n",
       "\n",
       "### Cook Time\n",
       "2hours 5minutes\n",
       "\n",
       "### Rest time (approx)\n",
       "12 hours hrs\n",
       "\n",
       "### Total Time\n",
       "2 hours 20 minutes \n",
       "\n",
       "### Course\n",
       "Main Course\n",
       "\n",
       "###\n",
       "Cuisine\n",
       "Japanese \n",
       "\n",
       "### Servings\n",
       "4 or more, depending how used \n",
       "\n",
       "### Calories: 1378kcal \n",
       "\n",
       "### Author: Caroline's Cooking \n",
       "\n",
       "\n",
       "### Ingredients\n",
       "* 2 lb pork belly or a little more/less\n",
       "* 2 green onions spring onions, or 3 if small\n",
       "* 1 in fresh ginger (a chunk that will give around 4 - 6 slices)\n",
       "* 2 cloves garlic\n",
       "* ⅔ cup sake\n",
       "* ⅔ cup soy sauce\n",
       "* ¼ cup mirin\n",
       "* ½ cup sugar\n",
       "* 2 cups water or a little more as needed\n",
       "\n",
       "US Customary - Metric\n",
       "\n",
       "### Instructions\n",
       "1. Have some string/kitchen twine ready and a pair of scissors before you prepare the pork. If needed, trim excess fat from the outside of the pork but you still want a later over the meat itself. Roll the piece of pork belly with the fatter end in the middle, and the flatter part making the roll around it. It may be a little tricky to hold together, but try your best as you tie it. Loop a piece of string around one end of the rolled pork and tie it in a double knot so that it holds the pork together. Then, taker the long end of the string and make additional loops around the pork, around ⅔in/2cm apart (or closer), looping through as you go and tightening to make a row of loops, linked together, along the roll. Then loop through over both ends so that it holds the ends in a little better as well and tie off and cut the string. (See pictures and video if you need a bit more guidance on how.)\n",
       "   \n",
       "2. Cut the piece of ginger into slices - there's no need to peel it. Peel and trim the ends from the garlic. Trim both ends off the green/spring onions and cut into long lengths.\n",
       "\n",
       "3. Warm a skillet/frying pan large enough to hold the pork but not much bigger, ideally cast iron or at least heavy based. Then sear the pork on all sides to gently brown and seal the pork and fat, including the ends. Start with a fatty side so that some of the fat releases to help with the searing. Once browned all over, remove from skillet and set aside. You can discard the excess fat that has come out.\n",
       "\n",
       "4. Meanwhile, place the sake, soy sauce, mirin, sugar, water and the prepared ginger, garlic and green onions in a pot. You want a pot that is just a little wider than the piece of rolled pork so that it will be mostly covered by the liquid once added. Place over a medium heat, covered, and bring to a simmer, stirring now and then to ensure sugar dissolves.\n",
       "\n",
       "5. Once the sake-soy mixture is simmering, and you have seared the pork, add the pork into the liquid. The liquid should be at least ⅔ up the pork, if not a little more - you can add a little more water if needed. Cover with the lid and bring back to a simmer then reduce the heat so that it simmers gently. Cook for about two hours, turning roughly every 30 minutes so that each side is submerged half the time. If the liquid gets below halfway, then add a little more water.\n",
       "\n",
       "6. After two hours, the pork will be cooked through and should be fairly tender. Turn off the heat and leave the pork to cool in the cooking liquid at least 10 minutes, but you can leave until room temperature. Once cool, remove the pork and set aside a minute. Strain the cooking liquid into a measuring jug to remove the ginger etc. Let it sit a few minutes so that the fat floats to the top then spoon off the fat and discard.\n",
       "\n",
       "7. Place the pork inside a freezer bag, just a little bigger than the pork itself, and sit it in a dish in case of any spills. Then, pour some of the cooking liquid into the bag so that the pork is submerged. Carefully remove excess air from the bag, seal up and then place in the fridge overnight. Don't skip this step, as it helps the pork firm up, but also tenderize further and take in more flavor.\n",
       "\n",
       "8. The next day, when ready to use, carefully take the pork out of the liquid and remove any fat that has solidified on it (that's not park of the pork belly itself). Cut off the string then cut the pork into relatively thin slices, so that you get coiled pieces of the pork belly.\n",
       "\n",
       "9. To prepare it to top ramen, warm some of the cooking liquid in a skillet and then add the pork, a few slices at a time so that they form a single layer. Simmer a couple minutes, carefully turning as needed, so that the pork warms through and gently caramelizes in the liquid. For chashu fried rice, you will instead want to chop the pork further and then fry, along with the rice."
      ],
      "text/plain": [
       "<IPython.core.display.Markdown object>"
      ]
     },
     "metadata": {},
     "output_type": "display_data"
    }
   ],
   "source": [
    "display(Markdown(train_data))\n"
   ]
  },
  {
   "cell_type": "code",
   "execution_count": 66,
   "id": "dfc5f2e5-e6b7-4b91-94c5-b992e432b6c8",
   "metadata": {},
   "outputs": [
    {
     "name": "stdout",
     "output_type": "stream",
     "text": [
      "### Chashu pork (for ramen and more)\n",
      "Chashu pork is a classic way to prepare pork belly for Japanese\n"
     ]
    }
   ],
   "source": [
    "print(train_data[0:100])"
   ]
  },
  {
   "cell_type": "code",
   "execution_count": 67,
   "id": "b23bc410-9a51-4560-9264-bf25cb37dfbb",
   "metadata": {},
   "outputs": [],
   "source": [
    "class FoodMetaData(BaseModel):\n",
    "    reasoning: str = Field(description=\"Reasoning for why the entity is correct\")\n",
    "    value: Union[str, int] = Field(description=\"Value of the entity\")\n",
    "    entity: str = Field(description=\"The actual entity i.e. pork, onions etc\")\n",
    "\n",
    "class FoodMetaDatas(BaseModel):\n",
    "    context: List[FoodMetaData]"
   ]
  },
  {
   "cell_type": "code",
   "execution_count": 68,
   "id": "01cc60a5-0dfa-4cf6-9071-e82e1f9f7b8a",
   "metadata": {},
   "outputs": [
    {
     "data": {
      "text/plain": [
       "{'properties': {'reasoning': {'description': 'Reasoning for why the entity is correct',\n",
       "   'title': 'Reasoning',\n",
       "   'type': 'string'},\n",
       "  'value': {'anyOf': [{'type': 'string'}, {'type': 'integer'}],\n",
       "   'description': 'Value of the entity',\n",
       "   'title': 'Value'},\n",
       "  'entity': {'description': 'The actual entity i.e. pork, onions etc',\n",
       "   'title': 'Entity',\n",
       "   'type': 'string'}},\n",
       " 'required': ['reasoning', 'value', 'entity'],\n",
       " 'title': 'FoodMetaData',\n",
       " 'type': 'object'}"
      ]
     },
     "execution_count": 68,
     "metadata": {},
     "output_type": "execute_result"
    }
   ],
   "source": [
    "FoodMetaData.model_json_schema()\n"
   ]
  },
  {
   "cell_type": "code",
   "execution_count": 69,
   "id": "60144d1b-d2ab-4111-aa1b-5b2c44075492",
   "metadata": {},
   "outputs": [
    {
     "data": {
      "text/plain": [
       "{'$defs': {'FoodMetaData': {'properties': {'reasoning': {'description': 'Reasoning for why the entity is correct',\n",
       "     'title': 'Reasoning',\n",
       "     'type': 'string'},\n",
       "    'value': {'anyOf': [{'type': 'string'}, {'type': 'integer'}],\n",
       "     'description': 'Value of the entity',\n",
       "     'title': 'Value'},\n",
       "    'entity': {'description': 'The actual entity i.e. pork, onions etc',\n",
       "     'title': 'Entity',\n",
       "     'type': 'string'}},\n",
       "   'required': ['reasoning', 'value', 'entity'],\n",
       "   'title': 'FoodMetaData',\n",
       "   'type': 'object'}},\n",
       " 'properties': {'context': {'items': {'$ref': '#/$defs/FoodMetaData'},\n",
       "   'title': 'Context',\n",
       "   'type': 'array'}},\n",
       " 'required': ['context'],\n",
       " 'title': 'FoodMetaDatas',\n",
       " 'type': 'object'}"
      ]
     },
     "execution_count": 69,
     "metadata": {},
     "output_type": "execute_result"
    }
   ],
   "source": [
    "FoodMetaDatas.model_json_schema()\n"
   ]
  },
  {
   "cell_type": "code",
   "execution_count": 70,
   "id": "169e10b8-42de-4eed-8a0b-b6671b9c89bf",
   "metadata": {},
   "outputs": [],
   "source": [
    "class FoodEntity(BaseModel):\n",
    "    food: str = Field(description=\"This can be both liquid and solid food such as meat, vegetables, alcohol, etc\")\n",
    "    quantity: int = Field(description=\"The exact quantity or amount of the food that should be used in the recipe\")\n",
    "    unit: str = Field(description=\"The unit being used e.g. grams, milliliters, pounds, etc\")\n",
    "    physical_quality: Optional[str] = Field(description=\"The characteristic of the ingredient\")\n",
    "    color: str = Field(description=\"The color of the food\")\n",
    "\n",
    "class FoodEntities(BaseModel):\n",
    "    entities: List[FoodEntity]"
   ]
  },
  {
   "cell_type": "code",
   "execution_count": 71,
   "id": "9b1c56ec-69ab-451b-a94a-e0f821d2e852",
   "metadata": {},
   "outputs": [
    {
     "data": {
      "text/plain": [
       "{'properties': {'food': {'description': 'This can be both liquid and solid food such as meat, vegetables, alcohol, etc',\n",
       "   'title': 'Food',\n",
       "   'type': 'string'},\n",
       "  'quantity': {'description': 'The exact quantity or amount of the food that should be used in the recipe',\n",
       "   'title': 'Quantity',\n",
       "   'type': 'integer'},\n",
       "  'unit': {'description': 'The unit being used e.g. grams, milliliters, pounds, etc',\n",
       "   'title': 'Unit',\n",
       "   'type': 'string'},\n",
       "  'physical_quality': {'anyOf': [{'type': 'string'}, {'type': 'null'}],\n",
       "   'description': 'The characteristic of the ingredient',\n",
       "   'title': 'Physical Quality'},\n",
       "  'color': {'description': 'The color of the food',\n",
       "   'title': 'Color',\n",
       "   'type': 'string'}},\n",
       " 'required': ['food', 'quantity', 'unit', 'physical_quality', 'color'],\n",
       " 'title': 'FoodEntity',\n",
       " 'type': 'object'}"
      ]
     },
     "execution_count": 71,
     "metadata": {},
     "output_type": "execute_result"
    }
   ],
   "source": [
    "FoodEntity.model_json_schema()\n"
   ]
  },
  {
   "cell_type": "code",
   "execution_count": 72,
   "id": "160275a1-4bb0-4c83-92f2-10995e666360",
   "metadata": {},
   "outputs": [
    {
     "data": {
      "text/plain": [
       "{'$defs': {'FoodEntity': {'properties': {'food': {'description': 'This can be both liquid and solid food such as meat, vegetables, alcohol, etc',\n",
       "     'title': 'Food',\n",
       "     'type': 'string'},\n",
       "    'quantity': {'description': 'The exact quantity or amount of the food that should be used in the recipe',\n",
       "     'title': 'Quantity',\n",
       "     'type': 'integer'},\n",
       "    'unit': {'description': 'The unit being used e.g. grams, milliliters, pounds, etc',\n",
       "     'title': 'Unit',\n",
       "     'type': 'string'},\n",
       "    'physical_quality': {'anyOf': [{'type': 'string'}, {'type': 'null'}],\n",
       "     'description': 'The characteristic of the ingredient',\n",
       "     'title': 'Physical Quality'},\n",
       "    'color': {'description': 'The color of the food',\n",
       "     'title': 'Color',\n",
       "     'type': 'string'}},\n",
       "   'required': ['food', 'quantity', 'unit', 'physical_quality', 'color'],\n",
       "   'title': 'FoodEntity',\n",
       "   'type': 'object'}},\n",
       " 'properties': {'entities': {'items': {'$ref': '#/$defs/FoodEntity'},\n",
       "   'title': 'Entities',\n",
       "   'type': 'array'}},\n",
       " 'required': ['entities'],\n",
       " 'title': 'FoodEntities',\n",
       " 'type': 'object'}"
      ]
     },
     "execution_count": 72,
     "metadata": {},
     "output_type": "execute_result"
    }
   ],
   "source": [
    "FoodEntities.model_json_schema()\n"
   ]
  },
  {
   "cell_type": "code",
   "execution_count": 73,
   "id": "ea1d08a7-1049-496a-a4a0-32f91ac73937",
   "metadata": {},
   "outputs": [],
   "source": [
    "class RecipeToFoodContext(dspy.Signature):\n",
    "    \"\"\"You are a food AI assistant. Your task is to extract the entity, the value of the entity and the reasoning \n",
    "    for why the extracted value is the correct value. If you cannot extract the entity, add null\"\"\"\n",
    "    recipe: str = dspy.InputField()\n",
    "    context: FoodMetaDatas = dspy.OutputField()"
   ]
  },
  {
   "cell_type": "code",
   "execution_count": 74,
   "id": "ac4b5a97-641a-48d5-ac46-51b02f18045d",
   "metadata": {},
   "outputs": [],
   "source": [
    "class RecipeToFoodEntities(dspy.Signature):\n",
    "    \"\"\"You are a food AI assistant. Your task is to extract food-related metadata from recipes.\"\"\"\n",
    "    recipe: str = dspy.InputField()\n",
    "    entities: FoodEntities = dspy.OutputField()"
   ]
  },
  {
   "cell_type": "code",
   "execution_count": 75,
   "id": "48ee3d10-1893-4f4f-92db-97cb41eb91f7",
   "metadata": {},
   "outputs": [],
   "source": [
    "predictor_context = dspy.TypedPredictor(RecipeToFoodContext)\n"
   ]
  },
  {
   "cell_type": "code",
   "execution_count": 76,
   "id": "14679f28-7b5d-41e9-a2f2-99de110b6f75",
   "metadata": {},
   "outputs": [
    {
     "name": "stdout",
     "output_type": "stream",
     "text": [
      "FoodMetaDatas(\n",
      "    context=[\n",
      "        FoodMetaData(\n",
      "            reasoning='The recipe specifies the quantity of orange dutch cheese as ten grams.',\n",
      "            value='10 grams',\n",
      "            entity='orange dutch cheese',\n",
      "        ),\n",
      "        FoodMetaData(\n",
      "            reasoning='The recipe specifies the quantity of water as 2 liters.',\n",
      "            value='2 liters',\n",
      "            entity='water',\n",
      "        ),\n",
      "        FoodMetaData(\n",
      "            reasoning=(\n",
      "                'The recipe specifies the quantity of ice as 5 ml, assuming the measurement is in liquid form to quant'\n",
      "                'ify.'\n",
      "            ),\n",
      "            value='5 ml',\n",
      "            entity='ice',\n",
      "        ),\n",
      "    ],\n",
      ")\n"
     ]
    }
   ],
   "source": [
    "# Run with GPT-4 instead\n",
    "with dspy.context(lm=gpt4):\n",
    "    dummy_context = predictor_context(recipe=\"Ten grams of orange dutch cheese, 2 liters of water and 5 ml of ice\")\n",
    "    pprint(dummy_context.context)"
   ]
  },
  {
   "cell_type": "code",
   "execution_count": 77,
   "id": "341371a9-8256-45b2-819a-13fe7bc8ebec",
   "metadata": {},
   "outputs": [
    {
     "name": "stdout",
     "output_type": "stream",
     "text": [
      "\n",
      "\n",
      "\n",
      "\n",
      "You are a food AI assistant. Your task is to extract the entity, the value of the entity and the reasoning \n",
      "    for why the extracted value is the correct value. If you cannot extract the entity, add null\n",
      "\n",
      "---\n",
      "\n",
      "Follow the following format.\n",
      "\n",
      "Recipe: ${recipe}\n",
      "Context: ${context}. Respond with a single JSON object. JSON Schema: {\"$defs\": {\"FoodMetaData\": {\"properties\": {\"reasoning\": {\"description\": \"Reasoning for why the entity is correct\", \"title\": \"Reasoning\", \"type\": \"string\"}, \"value\": {\"anyOf\": [{\"type\": \"string\"}, {\"type\": \"integer\"}], \"description\": \"Value of the entity\", \"title\": \"Value\"}, \"entity\": {\"description\": \"The actual entity i.e. pork, onions etc\", \"title\": \"Entity\", \"type\": \"string\"}}, \"required\": [\"reasoning\", \"value\", \"entity\"], \"title\": \"FoodMetaData\", \"type\": \"object\"}}, \"properties\": {\"context\": {\"items\": {\"$ref\": \"#/$defs/FoodMetaData\"}, \"title\": \"Context\", \"type\": \"array\"}}, \"required\": [\"context\"], \"title\": \"FoodMetaDatas\", \"type\": \"object\"}\n",
      "\n",
      "---\n",
      "\n",
      "Recipe: Ten grams of orange dutch cheese, 2 liters of water and 5 ml of ice\n",
      "Context:\u001b[32m ```json\n",
      "{\n",
      "  \"context\": [\n",
      "    {\n",
      "      \"entity\": \"orange dutch cheese\",\n",
      "      \"value\": \"10 grams\",\n",
      "      \"reasoning\": \"The recipe specifies the quantity of orange dutch cheese as ten grams.\"\n",
      "    },\n",
      "    {\n",
      "      \"entity\": \"water\",\n",
      "      \"value\": \"2 liters\",\n",
      "      \"reasoning\": \"The recipe specifies the quantity of water as 2 liters.\"\n",
      "    },\n",
      "    {\n",
      "      \"entity\": \"ice\",\n",
      "      \"value\": \"5 ml\",\n",
      "      \"reasoning\": \"The recipe specifies the quantity of ice as 5 ml, assuming the measurement is in liquid form to quantify.\"\n",
      "    }\n",
      "  ]\n",
      "}\n",
      "```\u001b[0m\n",
      "\n",
      "\n",
      "\n"
     ]
    }
   ],
   "source": [
    "gpt4.inspect_history(n=1)\n"
   ]
  },
  {
   "cell_type": "code",
   "execution_count": 78,
   "id": "6619a5db-22a5-40f7-a9f9-1e70156f43db",
   "metadata": {},
   "outputs": [],
   "source": [
    "predictor = dspy.TypedPredictor(RecipeToFoodEntities)\n"
   ]
  },
  {
   "cell_type": "code",
   "execution_count": 79,
   "id": "a1dbc665-2c6e-43ad-ba0f-ce65f5426874",
   "metadata": {},
   "outputs": [
    {
     "name": "stdout",
     "output_type": "stream",
     "text": [
      "FoodEntities(\n",
      "    entities=[\n",
      "        FoodEntity(\n",
      "            food='dutch cheese',\n",
      "            quantity=10,\n",
      "            unit='grams',\n",
      "            physical_quality=None,\n",
      "            color='orange',\n",
      "        ),\n",
      "        FoodEntity(\n",
      "            food='water',\n",
      "            quantity=2000,\n",
      "            unit='milliliters',\n",
      "            physical_quality=None,\n",
      "            color='clear',\n",
      "        ),\n",
      "        FoodEntity(\n",
      "            food='ice',\n",
      "            quantity=5,\n",
      "            unit='milliliters',\n",
      "            physical_quality=None,\n",
      "            color='clear',\n",
      "        ),\n",
      "    ],\n",
      ")\n"
     ]
    }
   ],
   "source": [
    "# Run with GPT-4 instead\n",
    "with dspy.context(lm=gpt4):\n",
    "    dummy_recipe = predictor(recipe=\"Ten grams of orange dutch cheese, 2 liters of water and 5 ml of ice\")\n",
    "    pprint(dummy_recipe.entities)"
   ]
  },
  {
   "cell_type": "code",
   "execution_count": 80,
   "id": "69fe6262-0b0d-43d1-b7b2-800cfb75ede9",
   "metadata": {},
   "outputs": [
    {
     "name": "stdout",
     "output_type": "stream",
     "text": [
      "\n",
      "\n",
      "\n",
      "\n",
      "You are a food AI assistant. Your task is to extract food-related metadata from recipes.\n",
      "\n",
      "---\n",
      "\n",
      "Follow the following format.\n",
      "\n",
      "Recipe: ${recipe}\n",
      "Entities: ${entities}. Respond with a single JSON object. JSON Schema: {\"$defs\": {\"FoodEntity\": {\"properties\": {\"food\": {\"description\": \"This can be both liquid and solid food such as meat, vegetables, alcohol, etc\", \"title\": \"Food\", \"type\": \"string\"}, \"quantity\": {\"description\": \"The exact quantity or amount of the food that should be used in the recipe\", \"title\": \"Quantity\", \"type\": \"integer\"}, \"unit\": {\"description\": \"The unit being used e.g. grams, milliliters, pounds, etc\", \"title\": \"Unit\", \"type\": \"string\"}, \"physical_quality\": {\"anyOf\": [{\"type\": \"string\"}, {\"type\": \"null\"}], \"description\": \"The characteristic of the ingredient\", \"title\": \"Physical Quality\"}, \"color\": {\"description\": \"The color of the food\", \"title\": \"Color\", \"type\": \"string\"}}, \"required\": [\"food\", \"quantity\", \"unit\", \"physical_quality\", \"color\"], \"title\": \"FoodEntity\", \"type\": \"object\"}}, \"properties\": {\"entities\": {\"items\": {\"$ref\": \"#/$defs/FoodEntity\"}, \"title\": \"Entities\", \"type\": \"array\"}}, \"required\": [\"entities\"], \"title\": \"FoodEntities\", \"type\": \"object\"}\n",
      "\n",
      "---\n",
      "\n",
      "Recipe: Ten grams of orange dutch cheese, 2 liters of water and 5 ml of ice\n",
      "Entities:\u001b[32m ```json\n",
      "{\n",
      "  \"entities\": [\n",
      "    {\n",
      "      \"food\": \"dutch cheese\",\n",
      "      \"quantity\": 10,\n",
      "      \"unit\": \"grams\",\n",
      "      \"physical_quality\": null,\n",
      "      \"color\": \"orange\"\n",
      "    },\n",
      "    {\n",
      "      \"food\": \"water\",\n",
      "      \"quantity\": 2000,\n",
      "      \"unit\": \"milliliters\",\n",
      "      \"physical_quality\": null,\n",
      "      \"color\": \"clear\"\n",
      "    },\n",
      "    {\n",
      "      \"food\": \"ice\",\n",
      "      \"quantity\": 5,\n",
      "      \"unit\": \"milliliters\",\n",
      "      \"physical_quality\": null,\n",
      "      \"color\": \"clear\"\n",
      "    }\n",
      "  ]\n",
      "}\n",
      "```\u001b[0m\n",
      "\n",
      "\n",
      "\n"
     ]
    }
   ],
   "source": [
    "gpt4.inspect_history(n=1)\n"
   ]
  },
  {
   "cell_type": "code",
   "execution_count": 81,
   "id": "6d3ce259-5a2d-4949-a16b-44c73255e856",
   "metadata": {},
   "outputs": [],
   "source": [
    "def parse_context(food_context: FoodMetaDatas) -> str:\n",
    "    context_str = \"\"\n",
    "    for context in food_context:\n",
    "        context: FoodMetaData\n",
    "        context_str += f\"{context.entity}:\\n\" + context.model_dump_json(indent=4) + \"\\n\"\n",
    "    return context_str"
   ]
  },
  {
   "cell_type": "code",
   "execution_count": 82,
   "id": "f30d78e5-5257-4668-82d8-e80306b30697",
   "metadata": {},
   "outputs": [],
   "source": [
    "class ExtractFoodEntities(dspy.Module):\n",
    "    def __init__(self, temperature: int = 0, seed: int = 123):\n",
    "        super().__init__()\n",
    "        self.temperature = temperature\n",
    "        self.seed = seed\n",
    "        self.extract_food_context = dspy.TypedPredictor(RecipeToFoodContext)\n",
    "        self.extract_food_context_cot = dspy.TypedChainOfThought(RecipeToFoodContext)\n",
    "        self.extract_food_entities = dspy.TypedPredictor(RecipeToFoodEntities)\n",
    "        \n",
    "    def forward(self, recipe: str) -> FoodEntities:\n",
    "        food_context = self.extract_food_context(recipe=recipe).context\n",
    "        parsed_context = parse_context(food_context.context)\n",
    "        food_entities = self.extract_food_entities(recipe=parsed_context)\n",
    "        return food_entities.entities"
   ]
  },
  {
   "cell_type": "code",
   "execution_count": 83,
   "id": "9f365769-8d90-4e90-8fbd-25f0ab60d3f7",
   "metadata": {},
   "outputs": [
    {
     "name": "stdout",
     "output_type": "stream",
     "text": [
      "FoodEntities(\n",
      "    entities=[\n",
      "        FoodEntity(\n",
      "            food='orange dutch cheese',\n",
      "            quantity=10,\n",
      "            unit='grams',\n",
      "            physical_quality=None,\n",
      "            color='orange',\n",
      "        ),\n",
      "        FoodEntity(\n",
      "            food='water',\n",
      "            quantity=2000,\n",
      "            unit='milliliters',\n",
      "            physical_quality=None,\n",
      "            color='clear',\n",
      "        ),\n",
      "        FoodEntity(\n",
      "            food='ice',\n",
      "            quantity=5,\n",
      "            unit='milliliters',\n",
      "            physical_quality='frozen',\n",
      "            color='clear',\n",
      "        ),\n",
      "    ],\n",
      ")\n"
     ]
    }
   ],
   "source": [
    "extract_food_entities = ExtractFoodEntities()\n",
    "\n",
    "with dspy.context(lm=gpt4):\n",
    "    entities = extract_food_entities(recipe=\"Ten grams of orange dutch cheese, 2 liters of water and 5 ml of ice\")\n",
    "    pprint(entities)"
   ]
  },
  {
   "cell_type": "code",
   "execution_count": 45,
   "id": "680be5df-f528-4f60-affc-1200152ee061",
   "metadata": {},
   "outputs": [
    {
     "name": "stdout",
     "output_type": "stream",
     "text": [
      "FoodEntities(\n",
      "    entities=[\n",
      "        FoodEntity(\n",
      "            food='pork belly',\n",
      "            quantity=2,\n",
      "            unit='lb',\n",
      "            physical_quality=None,\n",
      "            color='',\n",
      "        ),\n",
      "        FoodEntity(\n",
      "            food='green onions',\n",
      "            quantity=2,\n",
      "            unit='count',\n",
      "            physical_quality='or 3 if small',\n",
      "            color='green',\n",
      "        ),\n",
      "        FoodEntity(\n",
      "            food='fresh ginger',\n",
      "            quantity=1,\n",
      "            unit='inch',\n",
      "            physical_quality='chunk',\n",
      "            color='',\n",
      "        ),\n",
      "        FoodEntity(\n",
      "            food='garlic',\n",
      "            quantity=2,\n",
      "            unit='cloves',\n",
      "            physical_quality=None,\n",
      "            color='',\n",
      "        ),\n",
      "        FoodEntity(\n",
      "            food='sake',\n",
      "            quantity=2,\n",
      "            unit='⅔ cup',\n",
      "            physical_quality=None,\n",
      "            color='',\n",
      "        ),\n",
      "        FoodEntity(\n",
      "            food='soy sauce',\n",
      "            quantity=2,\n",
      "            unit='⅔ cup',\n",
      "            physical_quality=None,\n",
      "            color='dark',\n",
      "        ),\n",
      "        FoodEntity(\n",
      "            food='mirin',\n",
      "            quantity=1,\n",
      "            unit='¼ cup',\n",
      "            physical_quality=None,\n",
      "            color='',\n",
      "        ),\n",
      "        FoodEntity(\n",
      "            food='sugar',\n",
      "            quantity=1,\n",
      "            unit='½ cup',\n",
      "            physical_quality=None,\n",
      "            color='white',\n",
      "        ),\n",
      "        FoodEntity(\n",
      "            food='water',\n",
      "            quantity=2,\n",
      "            unit='cups',\n",
      "            physical_quality=None,\n",
      "            color='clear',\n",
      "        ),\n",
      "    ],\n",
      ")\n"
     ]
    }
   ],
   "source": [
    "with dspy.context(lm=gpt4):\n",
    "    entities = extract_food_entities(recipe=train_data)\n",
    "    pprint(entities)"
   ]
  },
  {
   "cell_type": "code",
   "execution_count": 46,
   "id": "faff4ae1-efcb-4396-aafc-6c5c50a6101c",
   "metadata": {},
   "outputs": [
    {
     "data": {
      "text/plain": [
       "[FoodEntity(food='pork belly', quantity=2, unit='lb', physical_quality=None, color=''),\n",
       " FoodEntity(food='green onions', quantity=2, unit='count', physical_quality='or 3 if small', color='green'),\n",
       " FoodEntity(food='fresh ginger', quantity=1, unit='inch', physical_quality='chunk', color=''),\n",
       " FoodEntity(food='garlic', quantity=2, unit='cloves', physical_quality=None, color=''),\n",
       " FoodEntity(food='sake', quantity=2, unit='⅔ cup', physical_quality=None, color=''),\n",
       " FoodEntity(food='soy sauce', quantity=2, unit='⅔ cup', physical_quality=None, color='dark'),\n",
       " FoodEntity(food='mirin', quantity=1, unit='¼ cup', physical_quality=None, color=''),\n",
       " FoodEntity(food='sugar', quantity=1, unit='½ cup', physical_quality=None, color='white'),\n",
       " FoodEntity(food='water', quantity=2, unit='cups', physical_quality=None, color='clear')]"
      ]
     },
     "execution_count": 46,
     "metadata": {},
     "output_type": "execute_result"
    }
   ],
   "source": [
    "entities.entities\n"
   ]
  },
  {
   "cell_type": "code",
   "execution_count": 47,
   "id": "4be1aed2-0a61-4769-bdb5-8ed404485ab6",
   "metadata": {},
   "outputs": [],
   "source": [
    "from dspy.functional import FunctionalModule, predictor, cot\n",
    "\n",
    "class ExtractFoodEntitiesV2(FunctionalModule):\n",
    "    def __init__(self, temperature: int = 0, seed: int = 123):\n",
    "        super().__init__()\n",
    "        self.temperature = temperature\n",
    "        self.seed = seed\n",
    "\n",
    "    @predictor\n",
    "    def extract_food_context(self, recipe: str) -> FoodMetaDatas:\n",
    "        \"\"\"You are a food AI assistant. Your task is to extract the entity, the value of the entity and the reasoning \n",
    "        for why the extracted value is the correct value. If you cannot extract the entity, add null\"\"\"\n",
    "        pass\n",
    "\n",
    "    @cot\n",
    "    def extract_food_context_cot(self, recipe: str) -> FoodMetaDatas:\n",
    "        \"\"\"You are a food AI assistant. Your task is to extract the entity, the value of the entity and the reasoning \n",
    "        for why the extracted value is the correct value. If you cannot extract the entity, add null\"\"\"\n",
    "        pass\n",
    "    \n",
    "    @predictor\n",
    "    def extract_food_entities(self, recipe: str) -> FoodEntities:\n",
    "        \"\"\"You are a food AI assistant. Your task is to extract food entities from a recipe.\"\"\"\n",
    "        pass\n",
    "        \n",
    "    def forward(self, recipe: str) -> FoodEntities:\n",
    "        food_context = self.extract_food_context(recipe=recipe)\n",
    "        parsed_context = parse_context(food_context.context)\n",
    "        food_entities = self.extract_food_entities(recipe=parsed_context)\n",
    "        return food_entities"
   ]
  },
  {
   "cell_type": "code",
   "execution_count": 48,
   "id": "f08f0b30-cd70-40b6-9a68-44d3c28433ef",
   "metadata": {},
   "outputs": [
    {
     "name": "stdout",
     "output_type": "stream",
     "text": [
      "FoodEntities(\n",
      "    entities=[\n",
      "        FoodEntity(\n",
      "            food='orange dutch cheese',\n",
      "            quantity=10,\n",
      "            unit='grams',\n",
      "            physical_quality=None,\n",
      "            color='orange',\n",
      "        ),\n",
      "        FoodEntity(\n",
      "            food='water',\n",
      "            quantity=2000,\n",
      "            unit='milliliters',\n",
      "            physical_quality=None,\n",
      "            color='clear',\n",
      "        ),\n",
      "        FoodEntity(\n",
      "            food='ice',\n",
      "            quantity=5,\n",
      "            unit='milliliters',\n",
      "            physical_quality=None,\n",
      "            color='clear',\n",
      "        ),\n",
      "    ],\n",
      ")\n"
     ]
    }
   ],
   "source": [
    "extract_food_entities_v2 = ExtractFoodEntitiesV2()\n",
    "\n",
    "with dspy.context(lm=gpt4):\n",
    "    entities = extract_food_entities_v2(recipe=\"Ten grams of orange dutch cheese, 2 liters of water and 5 ml of ice\")\n",
    "    pprint(entities)"
   ]
  },
  {
   "cell_type": "code",
   "execution_count": 49,
   "id": "1578221a-107c-494a-9e57-604d4400bb5f",
   "metadata": {},
   "outputs": [
    {
     "name": "stdout",
     "output_type": "stream",
     "text": [
      "FoodEntities(\n",
      "    entities=[\n",
      "        FoodEntity(\n",
      "            food='pork belly',\n",
      "            quantity=2,\n",
      "            unit='lb',\n",
      "            physical_quality=None,\n",
      "            color='',\n",
      "        ),\n",
      "        FoodEntity(\n",
      "            food='green onions',\n",
      "            quantity=2,\n",
      "            unit='items',\n",
      "            physical_quality='or 3 if small',\n",
      "            color='',\n",
      "        ),\n",
      "        FoodEntity(\n",
      "            food='fresh ginger',\n",
      "            quantity=1,\n",
      "            unit='inch chunk',\n",
      "            physical_quality='4 - 6 slices',\n",
      "            color='',\n",
      "        ),\n",
      "        FoodEntity(\n",
      "            food='garlic',\n",
      "            quantity=2,\n",
      "            unit='cloves',\n",
      "            physical_quality=None,\n",
      "            color='',\n",
      "        ),\n",
      "        FoodEntity(\n",
      "            food='sake',\n",
      "            quantity=2,\n",
      "            unit='⅔ cup',\n",
      "            physical_quality=None,\n",
      "            color='',\n",
      "        ),\n",
      "        FoodEntity(\n",
      "            food='soy sauce',\n",
      "            quantity=2,\n",
      "            unit='⅔ cup',\n",
      "            physical_quality=None,\n",
      "            color='',\n",
      "        ),\n",
      "        FoodEntity(\n",
      "            food='mirin',\n",
      "            quantity=1,\n",
      "            unit='¼ cup',\n",
      "            physical_quality=None,\n",
      "            color='',\n",
      "        ),\n",
      "        FoodEntity(\n",
      "            food='sugar',\n",
      "            quantity=1,\n",
      "            unit='½ cup',\n",
      "            physical_quality=None,\n",
      "            color='',\n",
      "        ),\n",
      "        FoodEntity(\n",
      "            food='water',\n",
      "            quantity=2,\n",
      "            unit='cups',\n",
      "            physical_quality='or a little more as needed',\n",
      "            color='',\n",
      "        ),\n",
      "    ],\n",
      ")\n"
     ]
    }
   ],
   "source": [
    "with dspy.context(lm=gpt4):\n",
    "    entities = extract_food_entities_v2(recipe=train_data)\n",
    "    pprint(entities)"
   ]
  },
  {
   "cell_type": "code",
   "execution_count": 50,
   "id": "4e3186da-8012-4add-bc3a-39e6d6538bf1",
   "metadata": {},
   "outputs": [
    {
     "name": "stdout",
     "output_type": "stream",
     "text": [
      "FoodEntities(\n",
      "    entities=[\n",
      "        FoodEntity(\n",
      "            food='pork belly',\n",
      "            quantity=2,\n",
      "            unit='lb',\n",
      "            physical_quality=None,\n",
      "            color='',\n",
      "        ),\n",
      "        FoodEntity(\n",
      "            food='green onions',\n",
      "            quantity=2,\n",
      "            unit='items',\n",
      "            physical_quality='or 3 if small',\n",
      "            color='',\n",
      "        ),\n",
      "        FoodEntity(\n",
      "            food='fresh ginger',\n",
      "            quantity=1,\n",
      "            unit='inch chunk',\n",
      "            physical_quality='4 - 6 slices',\n",
      "            color='',\n",
      "        ),\n",
      "        FoodEntity(\n",
      "            food='garlic',\n",
      "            quantity=2,\n",
      "            unit='cloves',\n",
      "            physical_quality=None,\n",
      "            color='',\n",
      "        ),\n",
      "        FoodEntity(\n",
      "            food='sake',\n",
      "            quantity=2,\n",
      "            unit='⅔ cup',\n",
      "            physical_quality=None,\n",
      "            color='',\n",
      "        ),\n",
      "        FoodEntity(\n",
      "            food='soy sauce',\n",
      "            quantity=2,\n",
      "            unit='⅔ cup',\n",
      "            physical_quality=None,\n",
      "            color='',\n",
      "        ),\n",
      "        FoodEntity(\n",
      "            food='mirin',\n",
      "            quantity=1,\n",
      "            unit='¼ cup',\n",
      "            physical_quality=None,\n",
      "            color='',\n",
      "        ),\n",
      "        FoodEntity(\n",
      "            food='sugar',\n",
      "            quantity=1,\n",
      "            unit='½ cup',\n",
      "            physical_quality=None,\n",
      "            color='',\n",
      "        ),\n",
      "        FoodEntity(\n",
      "            food='water',\n",
      "            quantity=2,\n",
      "            unit='cups',\n",
      "            physical_quality='or a little more as needed',\n",
      "            color='',\n",
      "        ),\n",
      "    ],\n",
      ")\n"
     ]
    }
   ],
   "source": [
    "pprint(entities)"
   ]
  },
  {
   "cell_type": "code",
   "execution_count": 51,
   "id": "53ab4d09-5f87-4e09-a8b6-f3dd0b2535f6",
   "metadata": {},
   "outputs": [
    {
     "name": "stdout",
     "output_type": "stream",
     "text": [
      "\n",
      "\n",
      "\n",
      "\n",
      "You are a food AI assistant. Your task is to extract food entities from a recipe.\n",
      "\n",
      "---\n",
      "\n",
      "Follow the following format.\n",
      "\n",
      "Recipe: ${recipe}\n",
      "Extract Food Entities: ${extract_food_entities}. Respond with a single JSON object. JSON Schema: {\"$defs\": {\"FoodEntity\": {\"properties\": {\"food\": {\"description\": \"This can be both liquid and solid food such as meat, vegetables, alcohol, etc\", \"title\": \"Food\", \"type\": \"string\"}, \"quantity\": {\"description\": \"The exact quantity or amount of the food that should be used in the recipe\", \"title\": \"Quantity\", \"type\": \"integer\"}, \"unit\": {\"description\": \"The unit being used e.g. grams, milliliters, pounds, etc\", \"title\": \"Unit\", \"type\": \"string\"}, \"physical_quality\": {\"anyOf\": [{\"type\": \"string\"}, {\"type\": \"null\"}], \"description\": \"The characteristic of the ingredient\", \"title\": \"Physical Quality\"}, \"color\": {\"description\": \"The color of the food\", \"title\": \"Color\", \"type\": \"string\"}}, \"required\": [\"food\", \"quantity\", \"unit\", \"physical_quality\", \"color\"], \"title\": \"FoodEntity\", \"type\": \"object\"}}, \"properties\": {\"entities\": {\"items\": {\"$ref\": \"#/$defs/FoodEntity\"}, \"title\": \"Entities\", \"type\": \"array\"}}, \"required\": [\"entities\"], \"title\": \"FoodEntities\", \"type\": \"object\"}\n",
      "\n",
      "---\n",
      "\n",
      "Recipe:\n",
      "pork belly:\n",
      "{\n",
      "    \"reasoning\": \"The recipe specifies using 2 lb of pork belly as the main ingredient for the chashu pork.\",\n",
      "    \"value\": \"2 lb\",\n",
      "    \"entity\": \"pork belly\"\n",
      "}\n",
      "green onions:\n",
      "{\n",
      "    \"reasoning\": \"The recipe calls for 2 green onions, or 3 if they are small, to be used in the cooking process.\",\n",
      "    \"value\": \"2 or 3\",\n",
      "    \"entity\": \"green onions\"\n",
      "}\n",
      "fresh ginger:\n",
      "{\n",
      "    \"reasoning\": \"A 1 inch chunk of fresh ginger is required, which will give around 4 - 6 slices.\",\n",
      "    \"value\": \"1 in chunk\",\n",
      "    \"entity\": \"fresh ginger\"\n",
      "}\n",
      "garlic:\n",
      "{\n",
      "    \"reasoning\": \"2 cloves of garlic are needed for the recipe.\",\n",
      "    \"value\": \"2 cloves\",\n",
      "    \"entity\": \"garlic\"\n",
      "}\n",
      "sake:\n",
      "{\n",
      "    \"reasoning\": \"⅔ cup of sake is used as part of the cooking liquid for the pork.\",\n",
      "    \"value\": \"⅔ cup\",\n",
      "    \"entity\": \"sake\"\n",
      "}\n",
      "soy sauce:\n",
      "{\n",
      "    \"reasoning\": \"⅔ cup of soy sauce is included in the ingredients for flavoring the pork.\",\n",
      "    \"value\": \"⅔ cup\",\n",
      "    \"entity\": \"soy sauce\"\n",
      "}\n",
      "mirin:\n",
      "{\n",
      "    \"reasoning\": \"¼ cup of mirin is added to the cooking liquid for sweetness and depth of flavor.\",\n",
      "    \"value\": \"¼ cup\",\n",
      "    \"entity\": \"mirin\"\n",
      "}\n",
      "sugar:\n",
      "{\n",
      "    \"reasoning\": \"½ cup of sugar is used in the recipe to balance the savory flavors with sweetness.\",\n",
      "    \"value\": \"½ cup\",\n",
      "    \"entity\": \"sugar\"\n",
      "}\n",
      "water:\n",
      "{\n",
      "    \"reasoning\": \"2 cups of water, or a little more as needed, is required to create the cooking liquid for the pork.\",\n",
      "    \"value\": \"2 cups\",\n",
      "    \"entity\": \"water\"\n",
      "}\n",
      "\n",
      "Extract Food Entities:\u001b[32m ```json\n",
      "{\n",
      "  \"entities\": [\n",
      "    {\n",
      "      \"food\": \"pork belly\",\n",
      "      \"quantity\": 2,\n",
      "      \"unit\": \"lb\",\n",
      "      \"physical_quality\": null,\n",
      "      \"color\": \"\"\n",
      "    },\n",
      "    {\n",
      "      \"food\": \"green onions\",\n",
      "      \"quantity\": 2,\n",
      "      \"unit\": \"items\",\n",
      "      \"physical_quality\": \"or 3 if small\",\n",
      "      \"color\": \"\"\n",
      "    },\n",
      "    {\n",
      "      \"food\": \"fresh ginger\",\n",
      "      \"quantity\": 1,\n",
      "      \"unit\": \"inch chunk\",\n",
      "      \"physical_quality\": \"4 - 6 slices\",\n",
      "      \"color\": \"\"\n",
      "    },\n",
      "    {\n",
      "      \"food\": \"garlic\",\n",
      "      \"quantity\": 2,\n",
      "      \"unit\": \"cloves\",\n",
      "      \"physical_quality\": null,\n",
      "      \"color\": \"\"\n",
      "    },\n",
      "    {\n",
      "      \"food\": \"sake\",\n",
      "      \"quantity\": 2,\n",
      "      \"unit\": \"⅔ cup\",\n",
      "      \"physical_quality\": null,\n",
      "      \"color\": \"\"\n",
      "    },\n",
      "    {\n",
      "      \"food\": \"soy sauce\",\n",
      "      \"quantity\": 2,\n",
      "      \"unit\": \"⅔ cup\",\n",
      "      \"physical_quality\": null,\n",
      "      \"color\": \"\"\n",
      "    },\n",
      "    {\n",
      "      \"food\": \"mirin\",\n",
      "      \"quantity\": 1,\n",
      "      \"unit\": \"¼ cup\",\n",
      "      \"physical_quality\": null,\n",
      "      \"color\": \"\"\n",
      "    },\n",
      "    {\n",
      "      \"food\": \"sugar\",\n",
      "      \"quantity\": 1,\n",
      "      \"unit\": \"½ cup\",\n",
      "      \"physical_quality\": null,\n",
      "      \"color\": \"\"\n",
      "    },\n",
      "    {\n",
      "      \"food\": \"water\",\n",
      "      \"quantity\": 2,\n",
      "      \"unit\": \"cups\",\n",
      "      \"physical_quality\": \"or a little more as needed\",\n",
      "      \"color\": \"\"\n",
      "    }\n",
      "  ]\n",
      "}\n",
      "```\u001b[0m\n",
      "\n",
      "\n",
      "\n"
     ]
    }
   ],
   "source": [
    "gpt4.inspect_history(n=1)\n"
   ]
  },
  {
   "cell_type": "code",
   "execution_count": 52,
   "id": "9e083b05-a638-431e-bcff-9f7a8fc938ce",
   "metadata": {},
   "outputs": [],
   "source": [
    "def validate_entities(example, pred, trace=None):\n",
    "    \"\"\"Check if both objects are equal\"\"\"\n",
    "    return example.entities == pred"
   ]
  },
  {
   "cell_type": "code",
   "execution_count": 53,
   "id": "800bad80-5191-4042-a37f-76881c172657",
   "metadata": {},
   "outputs": [],
   "source": [
    "# create some dummy data for training\n",
    "trainset = [\n",
    "    dspy.Example(\n",
    "        recipe=\"French omelett with 2 eggs, 500grams of butter and 10 grams gruyere\", \n",
    "        entities=[\n",
    "            FoodEntity(food=\"eggs\", quantity=2, unit=\"\", physical_quality=\"\", color=\"white\"),\n",
    "            FoodEntity(food=\"butter\", quantity=500, unit=\"grams\", physical_quality=\"\", color=\"yellow\"),\n",
    "            FoodEntity(food=\"cheese\", quantity=10, unit=\"grams\", physical_quality=\"gruyer\", color=\"yellow\")\n",
    "        ]\n",
    "    ).with_inputs(\"recipe\"),\n",
    "    dspy.Example(\n",
    "        recipe=\"200 grams of Ramen noodles bowel with one pickled egg, 500grams of pork, and 1 spring onion\", \n",
    "        entities=[\n",
    "            FoodEntity(food=\"egg\", quantity=1, unit=\"\", physical_quality=\"pickled\", color=\"ivory\"),\n",
    "            FoodEntity(food=\"ramen nudles\", quantity=200, unit=\"grams\", physical_quality=\"\", color=\"yellow\"),\n",
    "            FoodEntity(food=\"spring onion\", quantity=1, unit=\"\", physical_quality=\"\", color=\"white\")\n",
    "        ]\n",
    "    ).with_inputs(\"recipe\"),\n",
    "    dspy.Example(\n",
    "        recipe=\"10 grams of dutch orange cheese, 2 liters of water, and 5 ml of ice\", \n",
    "        entities=[\n",
    "            FoodEntity(food=\"cheese\", quantity=10, unit=\"grams\", physical_quality=\"\", color=\"orange\"),\n",
    "            FoodEntity(food=\"water\", quantity=2, unit=\"liters\", physical_quality=\"translucent\", color=\"\"),\n",
    "            FoodEntity(food=\"ice\", quantity=5, unit=\"militers\", physical_quality=\"cold\", color=\"white\")\n",
    "        ]\n",
    "    ).with_inputs(\"recipe\"),\n",
    "    dspy.Example(\n",
    "        recipe=\"Pasta carbonara, 250 grams of pasta 300 grams of pancetta, \\\n",
    "        150 grams pecorino romano, 150grams parmesan cheese, 3 egg yolks\", \n",
    "        entities=[\n",
    "            FoodEntity(food=\"pasta\", quantity=250, unit=\"grams\", physical_quality=\"dried\", color=\"yellow\"),\n",
    "            FoodEntity(food=\"egg yolk\", quantity=3, unit=\"\", physical_quality=\"\", color=\"orange\"),\n",
    "            FoodEntity(food=\"pancetta\", quantity=300, unit=\"grams\", physical_quality=\"pork\", color=\"\"),\n",
    "            FoodEntity(food=\"pecorino\", quantity=150, unit=\"grams\", physical_quality=\"goat chese\", color=\"yellow\"),\n",
    "            FoodEntity(food=\"parmesan\", quantity=150, unit=\"grams\", physical_quality=\"chese\", color=\"yellow\"),\n",
    "        ]\n",
    "    ).with_inputs(\"recipe\"),\n",
    "    dspy.Example(\n",
    "        recipe=\"American pancakes with 250g flour, 1 tsp baking powder, 1 gram salt, 10g sugar, 100ml fat milk\", \n",
    "        entities=[\n",
    "            FoodEntity(food=\"flour\", quantity=250, unit=\"grams\", physical_quality=\"\", color=\"white\"),\n",
    "            FoodEntity(food=\"baking powder\", quantity=1, unit=\"tsp\", physical_quality=\"\", color=\"white\"),\n",
    "            FoodEntity(food=\"salt\", quantity=1, unit=\"grams\", physical_quality=\"salty\", color=\"white\"),\n",
    "            FoodEntity(food=\"milk\", quantity=100, unit=\"mil\", physical_quality=\"fat\", color=\"white\"),\n",
    "        ]\n",
    "    ).with_inputs(\"recipe\")\n",
    "]"
   ]
  },
  {
   "cell_type": "code",
   "execution_count": 54,
   "id": "75465cac-cbb4-4db1-8c41-b40f0f6a6ca6",
   "metadata": {},
   "outputs": [
    {
     "name": "stderr",
     "output_type": "stream",
     "text": [
      "100%|█████████████████████████████████████████████| 5/5 [01:14<00:00, 14.80s/it]"
     ]
    },
    {
     "name": "stdout",
     "output_type": "stream",
     "text": [
      "Bootstrapped 0 full traces after 5 examples in round 0.\n"
     ]
    },
    {
     "name": "stderr",
     "output_type": "stream",
     "text": [
      "\n"
     ]
    }
   ],
   "source": [
    "from dspy.teleprompt import BootstrapFewShot\n",
    "\n",
    "teleprompter = BootstrapFewShot(metric=validate_entities)\n",
    "\n",
    "compiled_ner = teleprompter.compile(ExtractFoodEntitiesV2(), trainset=trainset)"
   ]
  },
  {
   "cell_type": "code",
   "execution_count": 55,
   "id": "d0d08850-5b13-4300-9411-affe209d9dde",
   "metadata": {},
   "outputs": [
    {
     "name": "stdout",
     "output_type": "stream",
     "text": [
      "FoodEntities(\n",
      "    entities=[\n",
      "        FoodEntity(\n",
      "            food='pork belly',\n",
      "            quantity=2,\n",
      "            unit='lb',\n",
      "            physical_quality=None,\n",
      "            color='',\n",
      "        ),\n",
      "        FoodEntity(\n",
      "            food='green onions',\n",
      "            quantity=2,\n",
      "            unit='items',\n",
      "            physical_quality='or 3 if small',\n",
      "            color='',\n",
      "        ),\n",
      "        FoodEntity(\n",
      "            food='fresh ginger',\n",
      "            quantity=1,\n",
      "            unit='inch chunk',\n",
      "            physical_quality='4 - 6 slices',\n",
      "            color='',\n",
      "        ),\n",
      "        FoodEntity(\n",
      "            food='garlic',\n",
      "            quantity=2,\n",
      "            unit='cloves',\n",
      "            physical_quality=None,\n",
      "            color='',\n",
      "        ),\n",
      "        FoodEntity(\n",
      "            food='sake',\n",
      "            quantity=2,\n",
      "            unit='⅔ cup',\n",
      "            physical_quality=None,\n",
      "            color='',\n",
      "        ),\n",
      "        FoodEntity(\n",
      "            food='soy sauce',\n",
      "            quantity=2,\n",
      "            unit='⅔ cup',\n",
      "            physical_quality=None,\n",
      "            color='',\n",
      "        ),\n",
      "        FoodEntity(\n",
      "            food='mirin',\n",
      "            quantity=1,\n",
      "            unit='¼ cup',\n",
      "            physical_quality=None,\n",
      "            color='',\n",
      "        ),\n",
      "        FoodEntity(\n",
      "            food='sugar',\n",
      "            quantity=1,\n",
      "            unit='½ cup',\n",
      "            physical_quality=None,\n",
      "            color='',\n",
      "        ),\n",
      "        FoodEntity(\n",
      "            food='water',\n",
      "            quantity=2,\n",
      "            unit='cups',\n",
      "            physical_quality='or a little more as needed',\n",
      "            color='',\n",
      "        ),\n",
      "    ],\n",
      ")\n"
     ]
    }
   ],
   "source": [
    "pprint(compiled_ner(recipe=train_data))"
   ]
  },
  {
   "cell_type": "code",
   "execution_count": 56,
   "id": "d4e649f1-1579-4c8a-9289-a52e5fd804aa",
   "metadata": {},
   "outputs": [
    {
     "name": "stdout",
     "output_type": "stream",
     "text": [
      "\n",
      "\n",
      "\n",
      "\n",
      "You are a food AI assistant. Your task is to extract food entities from a recipe.\n",
      "\n",
      "---\n",
      "\n",
      "Follow the following format.\n",
      "\n",
      "Recipe: ${recipe}\n",
      "Extract Food Entities: ${extract_food_entities}. Respond with a single JSON object. JSON Schema: {\"$defs\": {\"FoodEntity\": {\"properties\": {\"food\": {\"description\": \"This can be both liquid and solid food such as meat, vegetables, alcohol, etc\", \"title\": \"Food\", \"type\": \"string\"}, \"quantity\": {\"description\": \"The exact quantity or amount of the food that should be used in the recipe\", \"title\": \"Quantity\", \"type\": \"integer\"}, \"unit\": {\"description\": \"The unit being used e.g. grams, milliliters, pounds, etc\", \"title\": \"Unit\", \"type\": \"string\"}, \"physical_quality\": {\"anyOf\": [{\"type\": \"string\"}, {\"type\": \"null\"}], \"description\": \"The characteristic of the ingredient\", \"title\": \"Physical Quality\"}, \"color\": {\"description\": \"The color of the food\", \"title\": \"Color\", \"type\": \"string\"}}, \"required\": [\"food\", \"quantity\", \"unit\", \"physical_quality\", \"color\"], \"title\": \"FoodEntity\", \"type\": \"object\"}}, \"properties\": {\"entities\": {\"items\": {\"$ref\": \"#/$defs/FoodEntity\"}, \"title\": \"Entities\", \"type\": \"array\"}}, \"required\": [\"entities\"], \"title\": \"FoodEntities\", \"type\": \"object\"}\n",
      "\n",
      "---\n",
      "\n",
      "Recipe:\n",
      "pork belly:\n",
      "{\n",
      "    \"reasoning\": \"The recipe specifies using 2 lb of pork belly as the main ingredient for the chashu pork.\",\n",
      "    \"value\": \"2 lb\",\n",
      "    \"entity\": \"pork belly\"\n",
      "}\n",
      "green onions:\n",
      "{\n",
      "    \"reasoning\": \"The recipe calls for 2 green onions, or 3 if they are small, to be used in the cooking process.\",\n",
      "    \"value\": \"2 or 3\",\n",
      "    \"entity\": \"green onions\"\n",
      "}\n",
      "fresh ginger:\n",
      "{\n",
      "    \"reasoning\": \"A 1 inch chunk of fresh ginger is required, which will give around 4 - 6 slices.\",\n",
      "    \"value\": \"1 in chunk\",\n",
      "    \"entity\": \"fresh ginger\"\n",
      "}\n",
      "garlic:\n",
      "{\n",
      "    \"reasoning\": \"2 cloves of garlic are needed for the recipe.\",\n",
      "    \"value\": \"2 cloves\",\n",
      "    \"entity\": \"garlic\"\n",
      "}\n",
      "sake:\n",
      "{\n",
      "    \"reasoning\": \"⅔ cup of sake is used as part of the cooking liquid for the pork.\",\n",
      "    \"value\": \"⅔ cup\",\n",
      "    \"entity\": \"sake\"\n",
      "}\n",
      "soy sauce:\n",
      "{\n",
      "    \"reasoning\": \"⅔ cup of soy sauce is included in the ingredients for flavoring the pork.\",\n",
      "    \"value\": \"⅔ cup\",\n",
      "    \"entity\": \"soy sauce\"\n",
      "}\n",
      "mirin:\n",
      "{\n",
      "    \"reasoning\": \"¼ cup of mirin is added to the cooking liquid for sweetness and depth of flavor.\",\n",
      "    \"value\": \"¼ cup\",\n",
      "    \"entity\": \"mirin\"\n",
      "}\n",
      "sugar:\n",
      "{\n",
      "    \"reasoning\": \"½ cup of sugar is used in the recipe to balance the savory flavors with sweetness.\",\n",
      "    \"value\": \"½ cup\",\n",
      "    \"entity\": \"sugar\"\n",
      "}\n",
      "water:\n",
      "{\n",
      "    \"reasoning\": \"2 cups of water, or a little more as needed, is required to create the cooking liquid for the pork.\",\n",
      "    \"value\": \"2 cups\",\n",
      "    \"entity\": \"water\"\n",
      "}\n",
      "\n",
      "Extract Food Entities:\u001b[32m ```json\n",
      "{\n",
      "  \"entities\": [\n",
      "    {\n",
      "      \"food\": \"pork belly\",\n",
      "      \"quantity\": 2,\n",
      "      \"unit\": \"lb\",\n",
      "      \"physical_quality\": null,\n",
      "      \"color\": \"\"\n",
      "    },\n",
      "    {\n",
      "      \"food\": \"green onions\",\n",
      "      \"quantity\": 2,\n",
      "      \"unit\": \"items\",\n",
      "      \"physical_quality\": \"or 3 if small\",\n",
      "      \"color\": \"\"\n",
      "    },\n",
      "    {\n",
      "      \"food\": \"fresh ginger\",\n",
      "      \"quantity\": 1,\n",
      "      \"unit\": \"inch chunk\",\n",
      "      \"physical_quality\": \"4 - 6 slices\",\n",
      "      \"color\": \"\"\n",
      "    },\n",
      "    {\n",
      "      \"food\": \"garlic\",\n",
      "      \"quantity\": 2,\n",
      "      \"unit\": \"cloves\",\n",
      "      \"physical_quality\": null,\n",
      "      \"color\": \"\"\n",
      "    },\n",
      "    {\n",
      "      \"food\": \"sake\",\n",
      "      \"quantity\": 2,\n",
      "      \"unit\": \"⅔ cup\",\n",
      "      \"physical_quality\": null,\n",
      "      \"color\": \"\"\n",
      "    },\n",
      "    {\n",
      "      \"food\": \"soy sauce\",\n",
      "      \"quantity\": 2,\n",
      "      \"unit\": \"⅔ cup\",\n",
      "      \"physical_quality\": null,\n",
      "      \"color\": \"\"\n",
      "    },\n",
      "    {\n",
      "      \"food\": \"mirin\",\n",
      "      \"quantity\": 1,\n",
      "      \"unit\": \"¼ cup\",\n",
      "      \"physical_quality\": null,\n",
      "      \"color\": \"\"\n",
      "    },\n",
      "    {\n",
      "      \"food\": \"sugar\",\n",
      "      \"quantity\": 1,\n",
      "      \"unit\": \"½ cup\",\n",
      "      \"physical_quality\": null,\n",
      "      \"color\": \"\"\n",
      "    },\n",
      "    {\n",
      "      \"food\": \"water\",\n",
      "      \"quantity\": 2,\n",
      "      \"unit\": \"cups\",\n",
      "      \"physical_quality\": \"or a little more as needed\",\n",
      "      \"color\": \"\"\n",
      "    }\n",
      "  ]\n",
      "}\n",
      "```\u001b[0m\n",
      "\n",
      "\n",
      "\n"
     ]
    }
   ],
   "source": [
    "gpt4.inspect_history(n=1)"
   ]
  },
  {
   "cell_type": "code",
   "execution_count": null,
   "id": "7b4cea34-5a97-4480-abbd-4100632a4f55",
   "metadata": {},
   "outputs": [],
   "source": []
  }
 ],
 "metadata": {
  "kernelspec": {
   "display_name": "Python 3 (ipykernel)",
   "language": "python",
   "name": "python3"
  },
  "language_info": {
   "codemirror_mode": {
    "name": "ipython",
    "version": 3
   },
   "file_extension": ".py",
   "mimetype": "text/x-python",
   "name": "python",
   "nbconvert_exporter": "python",
   "pygments_lexer": "ipython3",
   "version": "3.11.8"
  }
 },
 "nbformat": 4,
 "nbformat_minor": 5
}
