{
 "cells": [
  {
   "cell_type": "code",
   "execution_count": 83,
   "id": "016c9994-17fb-4f75-bfe9-b3f3fc09341a",
   "metadata": {},
   "outputs": [],
   "source": [
    "from langchain.prompts import PromptTemplate\n",
    "from langchain.output_parsers import ResponseSchema\n",
    "from langchain.output_parsers import StructuredOutputParser\n",
    "import os\n",
    "import json\n",
    "import os\n",
    "from dotenv import load_dotenv\n",
    "\n",
    "load_dotenv()\n",
    "from openai import OpenAI\n",
    "\n",
    "client = OpenAI(\n",
    "  api_key=os.environ['OPENAI_API_KEY']  # this is also the default, it can be omitted\n",
    ")\n",
    "\n",
    "# function to call OpenAI APIs\n",
    "def get_completion(prompt, model=\"gpt-3.5-turbo\"):\n",
    "    messages = [{\"role\": \"user\", \"content\": prompt}]\n",
    "    response = client.chat.completions.create(\n",
    "        model=model,\n",
    "        messages=messages,\n",
    "        temperature=0 # this is the degree of randomness of the model's output\n",
    "    )\n",
    "    return response.choices[0].message.content"
   ]
  },
  {
   "cell_type": "code",
   "execution_count": 84,
   "id": "d51d69b9-d92e-4212-a371-0179b618050c",
   "metadata": {},
   "outputs": [],
   "source": [
    "conversation_metadata_prompt_template_str = \"\"\"\n",
    "Given in input a full chat history between a user and a customer service assistant, \\\n",
    "extract the following metadata according to the format instructions below.\n",
    " \n",
    "<< FORMATTING >>\n",
    "{format_instructions}\n",
    " \n",
    "<< INPUT >>\n",
    "{chat_history}\n",
    " \n",
    "<< OUTPUT (remember to include the ```json)>>\"\"\"\n",
    " \n",
    "conversation_metadata_prompt_template = PromptTemplate.from_template(template=conversation_metadata_prompt_template_str)"
   ]
  },
  {
   "cell_type": "code",
   "execution_count": 85,
   "id": "12909d08-5582-484e-b2b7-734a090ef8f4",
   "metadata": {},
   "outputs": [
    {
     "name": "stdout",
     "output_type": "stream",
     "text": [
      "{'intent': 'greetings', 'user_need': '', 'sentiment': 'positive', 'n_pizzas': ''}\n"
     ]
    }
   ],
   "source": [
    "# example of Greetings conversation\n",
    "messages =  [\n",
    "  {'role':'assistant', 'content':'Hello! I am Isi, your digital assistant. \\n How may I help you today?'},  \n",
    "  {'role':'user', 'content':'Hi! my name is Isa!!'}\n",
    "]\n",
    " \n",
    "# init prompt\n",
    "conversation_metadata_recognition_prompt = (\n",
    "    conversation_metadata_prompt_template.format(\n",
    "        chat_history=messages,\n",
    "        format_instructions=conversation_metadata_output_schema\n",
    "    )\n",
    ")\n",
    "\n",
    "# call openAI API to detect the conversation metadata (e.g. intent, user_need, entities, etc.)\n",
    "conversation_metadata_detected_str = get_completion(conversation_metadata_recognition_prompt)\n",
    "\n",
    "# conversion from string to python dict\n",
    "conversation_metadata_detected = conversation_metadata_output_schema_parser.parse(conversation_metadata_detected_str)\n",
    "print(conversation_metadata_detected)\n",
    "# {'intent': 'greetings',\n",
    "# 'user_need': '',\n",
    "# 'sentiment': 'positive',\n",
    "# 'n_pizzas': ''}"
   ]
  },
  {
   "cell_type": "code",
   "execution_count": 86,
   "id": "5c84e57d-376c-4a98-b5b3-d35be86c7dec",
   "metadata": {},
   "outputs": [
    {
     "name": "stdout",
     "output_type": "stream",
     "text": [
      "The output should be a markdown code snippet formatted in the following schema, including the leading and trailing \"```json\" and \"```\":\n",
      "\n",
      "```json\n",
      "{\n",
      "\t\"intent\": string  // Based on the latest user message, extract the user message intent. Here are some possible labels: 'greetings', 'booking', 'complaint' or 'other'\n",
      "\t\"user_need\": string  // Rephrase the latest user request and make it a meaningful question without missing any details. Use '' if it is not available\n",
      "\t\"sentiment\": string  // Based on the latest user message, extract the user sentiment. Here are some possible labels: 'positive', 'neutral', 'negative', 'mixed' or 'other'\n",
      "\t\"n_pizzas\": string  // Based on the user need, extract the number of pizzas to be made. Use '' if it is not available\n",
      "}\n",
      "```\n"
     ]
    }
   ],
   "source": [
    "# intent\n",
    "intent_name_field = ResponseSchema(name=\"intent\", description=f\"Based on the latest user message, extract the user message intent. Here are some possible labels: 'greetings', 'booking', 'complaint' or 'other'\")\n",
    "# user need\n",
    "user_need_field = ResponseSchema(name=\"user_need\", description=\"Rephrase the latest user request and make it a meaningful question without missing any details. Use '' if it is not available\")\n",
    "# user sentiment\n",
    "sentiment_field = ResponseSchema(name=\"sentiment\", description=\"Based on the latest user message, extract the user sentiment. Here are some possible labels: 'positive', 'neutral', 'negative', 'mixed' or 'other'\")\n",
    "# number of pizzas to be ordered\n",
    "n_pizzas_field = ResponseSchema(name=\"n_pizzas\", description=\"Based on the user need, extract the number of pizzas to be made. Use '' if it is not available\")\n",
    "\n",
    "# schema with all entities (fields) to be extracted\n",
    "conversation_metadata_output_schema_parser = StructuredOutputParser.from_response_schemas(\n",
    "    [\n",
    "        # user intent\n",
    "        intent_name_field,\n",
    "        # user need\n",
    "        user_need_field,\n",
    "        # user sentiment\n",
    "        sentiment_field,\n",
    "        # number of ordered pizzas \n",
    "        n_pizzas_field\n",
    "        # other extra fields to be extracted\n",
    "        # ... \n",
    "    ]\n",
    ")\n",
    "conversation_metadata_output_schema = conversation_metadata_output_schema_parser.get_format_instructions()\n",
    "print(conversation_metadata_output_schema)"
   ]
  },
  {
   "cell_type": "code",
   "execution_count": 87,
   "id": "2bc6086e-d296-49de-b53d-403b788a64ce",
   "metadata": {},
   "outputs": [],
   "source": [
    "conversation_metadata_prompt_template_str = \"\"\"\n",
    "Given in input a full chat history between a user and a customer service assistant, \\\n",
    "extract the following metadata according to the format instructions below.\n",
    " \n",
    "<< FORMATTING >>\n",
    "{format_instructions}\n",
    " \n",
    "<< INPUT >>\n",
    "{chat_history}\n",
    " \n",
    "<< OUTPUT (remember to include the ```json)>>\"\"\"\n",
    " \n",
    "conversation_metadata_prompt_template = PromptTemplate.from_template(template=conversation_metadata_prompt_template_str)"
   ]
  },
  {
   "cell_type": "code",
   "execution_count": 88,
   "id": "8fc97669-5bcd-4984-bba4-affbf31c822f",
   "metadata": {},
   "outputs": [
    {
     "name": "stdout",
     "output_type": "stream",
     "text": [
      "{'intent': 'greetings', 'user_need': '', 'sentiment': 'positive', 'n_pizzas': ''}\n"
     ]
    }
   ],
   "source": [
    "# example of Greetings conversation\n",
    "messages =  [\n",
    "  {'role':'assistant', 'content':'Hello! I am Isi, your digital assistant. \\n How may I help you today?'},  \n",
    "  {'role':'user', 'content':'Hi! my name is Isa!!'}\n",
    "]\n",
    " \n",
    "# init prompt\n",
    "conversation_metadata_recognition_prompt = (\n",
    "    conversation_metadata_prompt_template.format(\n",
    "        chat_history=messages,\n",
    "        format_instructions=conversation_metadata_output_schema\n",
    "    )\n",
    ")\n",
    "\n",
    "# call openAI API to detect the conversation metadata (e.g. intent, user_need, entities, etc.)\n",
    "conversation_metadata_detected_str = get_completion(conversation_metadata_recognition_prompt)\n",
    "\n",
    "# conversion from string to python dict\n",
    "conversation_metadata_detected = conversation_metadata_output_schema_parser.parse(conversation_metadata_detected_str)\n",
    "print(conversation_metadata_detected)\n",
    "# {'intent': 'greetings',\n",
    "# 'user_need': '',\n",
    "# 'sentiment': 'positive',\n",
    "# 'n_pizzas': ''}"
   ]
  },
  {
   "cell_type": "code",
   "execution_count": 89,
   "id": "f62e476b-9218-40fa-a17b-dab0c46fa8c5",
   "metadata": {},
   "outputs": [
    {
     "name": "stdout",
     "output_type": "stream",
     "text": [
      "{'intent': 'booking', 'user_need': 'Could you help me make an order for 4 pizzas and 10 beers?', 'sentiment': 'positive', 'n_pizzas': '4'}\n"
     ]
    }
   ],
   "source": [
    "# example of pizza order conversation\n",
    "messages =  [\n",
    "  {'role':'assistant', 'content':'Hello! I am Isi, your digital assistant. \\n How may I help you today?'},  \n",
    "  {'role':'user', 'content':'Hi, my name is Isa!'},\n",
    "  {'role':'assistant', 'content': \"Hi Isa! It's nice to meet you. Is there anything I can help you with today?\"},\n",
    "  {'role':'user', 'content':\"Yes, I'd like to make an order. I'd like order 4 pizzas and 10 beers. Could you help me with that?\"}\n",
    "]\n",
    " \n",
    "# init prompt\n",
    "conversation_metadata_recognition_prompt = (\n",
    "    conversation_metadata_prompt_template.format(\n",
    "        chat_history=messages,\n",
    "        format_instructions=conversation_metadata_output_schema\n",
    "    )\n",
    ")\n",
    "\n",
    "# call openAI API to detect the conversation metadata (e.g. intent, user_need, entities, etc.)\n",
    "conversation_metadata_detected_str = get_completion(conversation_metadata_recognition_prompt)\n",
    "\n",
    "# conversion from string to python dict\n",
    "conversation_metadata_detected = conversation_metadata_output_schema_parser.parse(conversation_metadata_detected_str)\n",
    "print(conversation_metadata_detected)\n",
    "# {'intent': 'booking',\n",
    "# 'user_need': 'Could you help me make an order for 4 pizzas and 10 beers?',\n",
    "# 'sentiment': 'positive',\n",
    "# 'n_pizzas': '4'}"
   ]
  },
  {
   "cell_type": "code",
   "execution_count": null,
   "id": "d2ad5ad9-fcf7-47c5-a836-9f21a9b34bcd",
   "metadata": {},
   "outputs": [],
   "source": []
  }
 ],
 "metadata": {
  "kernelspec": {
   "display_name": "Python 3 (ipykernel)",
   "language": "python",
   "name": "python3"
  },
  "language_info": {
   "codemirror_mode": {
    "name": "ipython",
    "version": 3
   },
   "file_extension": ".py",
   "mimetype": "text/x-python",
   "name": "python",
   "nbconvert_exporter": "python",
   "pygments_lexer": "ipython3",
   "version": "3.11.8"
  }
 },
 "nbformat": 4,
 "nbformat_minor": 5
}
